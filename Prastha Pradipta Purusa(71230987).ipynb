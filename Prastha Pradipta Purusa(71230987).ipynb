{
 "cells": [
  {
   "cell_type": "code",
   "execution_count": 2,
   "id": "866fec4d",
   "metadata": {},
   "outputs": [
    {
     "name": "stdout",
     "output_type": "stream",
     "text": [
      "3 nilai terbaik: [100, 95, 93]\n"
     ]
    }
   ],
   "source": [
    "nilai = [93, 45, 70, 60, 56, 95, 32, 55, 53, 10, 100]\n",
    "nilai.sort(reverse=True)\n",
    "terbaik = nilai[:3]\n",
    "print(\"3 nilai terbaik:\", terbaik)"
   ]
  },
  {
   "cell_type": "code",
   "execution_count": null,
   "id": "274d2341",
   "metadata": {},
   "outputs": [],
   "source": [
    "list_angka = []\n",
    "\n",
    "while True:\n",
    "    input_angka = input(\"Masukkan angka (atau ketik 'done' untuk selesai): \")\n",
    "\n",
    "    if input_angka == 'done':\n",
    "        break\n",
    "    elif input_angka.isdigit():\n",
    "        angka = int(input_angka)\n",
    "        list_angka.append(angka)\n",
    "    else:\n",
    "        print(\"tidak valid\")\n",
    "        break\n",
    "\n",
    "if list_angka:\n",
    "    print(\"Nilai tertinggi:\", max(list_angka))\n",
    "    print(\"Nilai terendah:\", min(list_angka))\n",
    "else:\n",
    "    print(\"Tidak ada angka yang dimasukkan.\")"
   ]
  },
  {
   "cell_type": "code",
   "execution_count": null,
   "id": "9d493c9b",
   "metadata": {},
   "outputs": [],
   "source": [
    "file = open(\"berita.txt\", \"r\")\n",
    "line = file.readlines()\n",
    "file.close()\n",
    "\n",
    "kataunik = []\n",
    "\n",
    "for i in line:\n",
    "    kata = i.strip().split()\n",
    "    for j in kata:\n",
    "        if j != kataunik:\n",
    "            kataunik.append(j)\n",
    "                    \n",
    "print(\"==========Isi Berita===========\")\n",
    "print(line)\n",
    "print(\"=========Kata Unik Pada Berita=============\")\n",
    "print(kataunik)"
   ]
  }
 ],
 "metadata": {
  "kernelspec": {
   "display_name": "Python 3 (ipykernel)",
   "language": "python",
   "name": "python3"
  },
  "language_info": {
   "codemirror_mode": {
    "name": "ipython",
    "version": 3
   },
   "file_extension": ".py",
   "mimetype": "text/x-python",
   "name": "python",
   "nbconvert_exporter": "python",
   "pygments_lexer": "ipython3",
   "version": "3.11.5"
  }
 },
 "nbformat": 4,
 "nbformat_minor": 5
}
